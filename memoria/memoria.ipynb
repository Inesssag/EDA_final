{
 "cells": [
  {
   "cell_type": "markdown",
   "metadata": {},
   "source": [
    "# MEMORIA"
   ]
  },
  {
   "cell_type": "markdown",
   "metadata": {},
   "source": [
    "Tras una larga búsqueda, y descartando otras opciones por falta de información relevante para realizar el EDA, el Dataset elegido es el siguiente: \"https://www.kaggle.com/datasets/aungpyaeap/supermarket-sales/data\""
   ]
  },
  {
   "cell_type": "markdown",
   "metadata": {},
   "source": [
    "El contexto relativo al Dataset se basa en un supuesto irreal en el que como empresa española que vende bolsos online, se \n",
    "plantea la posibilidad de establecer unos puntos de venta físicos.\n",
    "Entre sus opciones se encuentra la empresa \"El Corte Inglés\" la cual posee varias filiales por todo España.\n",
    "La tabla de la que sustraemos los datos es la anteriormente mencionada. \n",
    "Se supone que hace referencia a sus establecimientos de \"Hipercor\" e indica todo lo referente a sus ventas en el último año."
   ]
  },
  {
   "cell_type": "markdown",
   "metadata": {},
   "source": [
    "A todo esto se le añaden dos Datasets dela propia empresa \"Bolsos Charo-L\". Por un lado las ventas online y por otro lado los datos de los clientes. \n",
    "Con la ayuda de ambas se demostrará si la hipótesis de que \"Elegir como nuevo punto de venta alguno de estos comercios es favorable para la marca\""
   ]
  },
  {
   "cell_type": "markdown",
   "metadata": {},
   "source": [
    "# Primera Fase"
   ]
  },
  {
   "cell_type": "markdown",
   "metadata": {},
   "source": [
    "Se elaboran los DataSet de la propia marca y se limpia el DataSet de Kaggle. \n",
    "En este caso está bastante bien adecuado ya por lo que simplemente realizo unos cambios en los nombres de las localizaciones y pongo las fechas a 2023 para poder asemejarlo lo máximo posible a un caso real.\n",
    "\n",
    "Todo esto se lleva a cabo en limpieza_data.ipynb, dentro de la carpeta notebooks. \n",
    "La data obtenida del proceso, se lleva a la carpeta data."
   ]
  },
  {
   "cell_type": "markdown",
   "metadata": {},
   "source": [
    "# Segunda Fase"
   ]
  },
  {
   "cell_type": "markdown",
   "metadata": {},
   "source": [
    "Primero detallo bien cuál es la esencia de la marca, cuáles son sus valores, su público objetivo… De todo esto trato de destacar cuáles son los puntos que se deberían tener en cuenta a la hora de tomar la decisión de vender en un punto de venta físico.\n",
    "Por eso, se determinan las siguientes hipótesis:\n",
    "\n",
    "\n",
    "Hipótesis  1: elegir como nuevo punto de venta. Alguno de estos comercios es favorable para la marca.\n",
    "\n",
    "Hipótesis 2: la ubicación de la sucursal influye en las ventas de ciertos tipos de producto.\n",
    "\n",
    "Hipótesis 3: el tipo de cliente en una sucursal determinada afecta a las ventas de ciertos productos.\n",
    "\n",
    "Hipótesis  4: el tipo de pago preferido por los clientes en una sucursal influye en las ventas totales.\n",
    "\n",
    "\n",
    "A través de estas hipótesis se dará forma a la organización y elaboración del proyecto, puesto que se tratará de ir resolviendo una a una, elaborando diferentes dataframes y sus respectivas gráficas."
   ]
  },
  {
   "cell_type": "markdown",
   "metadata": {},
   "source": [
    "En esta fase comienzo con el análisis de la tabla supermarket, en referencia al Corte Inglés. La información que obtengo acerca de la demanda, las ventas y sus clientes es relevante para las hipótesis planteadas. \n",
    "\n",
    "Después, analizo las ventas y clientes del dataset de la empresa ficticia creada. Las tablas son sencillas y enseguida se pueden reconocer cuáles son las localidades, desde donde se realizan la mayoría de las compras, qué género predomina entre nuestros clientes y cuál ha sido la trayectoria de la venta online hasta el momento."
   ]
  },
  {
   "cell_type": "markdown",
   "metadata": {},
   "source": [
    "# Tercera Fase"
   ]
  },
  {
   "cell_type": "markdown",
   "metadata": {},
   "source": [
    "Por último elaboro la presentación con todas las visualizaciones gráficas necesarias así como las conclusiones en lo referente a las hipótesis. Parte de la presentación se realizará en canva y mediante Power BI se verá la situación de ventas de la empresa 'Bolsos Charo-L' en tiempo real."
   ]
  }
 ],
 "metadata": {
  "kernelspec": {
   "display_name": "Python 3",
   "language": "python",
   "name": "python3"
  },
  "language_info": {
   "codemirror_mode": {
    "name": "ipython",
    "version": 3
   },
   "file_extension": ".py",
   "mimetype": "text/x-python",
   "name": "python",
   "nbconvert_exporter": "python",
   "pygments_lexer": "ipython3",
   "version": "3.12.3"
  }
 },
 "nbformat": 4,
 "nbformat_minor": 2
}
